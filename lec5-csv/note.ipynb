{
 "cells": [
  {
   "cell_type": "markdown",
   "source": [
    "# 处理 CSV 数据\r\n",
    "在之前的几次学习中，我们学到了list、dict、for、while、if、else、函数等程序的基础构造。\r\n",
    "\r\n",
    "本节我们会使用这些基础构造来书写更有趣、更多功能的代码。"
   ],
   "metadata": {}
  },
  {
   "cell_type": "code",
   "execution_count": 1,
   "source": [
    "# 首先，我们先来回顾之前学到的分词\r\n",
    "\r\n",
    "words = \"This is an apple. I like apples. I would like to eat this apple.\"\r\n",
    "\r\n",
    "import string\r\n",
    "\r\n",
    "words_without_punc = []\r\n",
    "for char in words:\r\n",
    "    if char not in string.punctuation:\r\n",
    "        words_without_punc.append(char)\r\n",
    "words_without_punc = ''.join(words_without_punc).split()\r\n",
    "print(words_without_punc)"
   ],
   "outputs": [
    {
     "output_type": "stream",
     "name": "stdout",
     "text": [
      "['This', 'is', 'an', 'apple', 'I', 'like', 'apples', 'I', 'would', 'like', 'to', 'eat', 'this', 'apple']\n"
     ]
    }
   ],
   "metadata": {}
  },
  {
   "cell_type": "markdown",
   "source": [
    "以上代码将标点符号过滤掉，然后将每个词分开了。"
   ],
   "metadata": {}
  },
  {
   "cell_type": "code",
   "execution_count": 2,
   "source": [
    "word_count = {}\r\n",
    "for word in words_without_punc:\r\n",
    "    if word in word_count:\r\n",
    "        word_count[word] += 1\r\n",
    "    else:\r\n",
    "        word_count[word] = 1\r\n",
    "print(word_count)"
   ],
   "outputs": [
    {
     "output_type": "stream",
     "name": "stdout",
     "text": [
      "{'This': 1, 'is': 1, 'an': 1, 'apple': 2, 'I': 2, 'like': 2, 'apples': 1, 'would': 1, 'to': 1, 'eat': 1, 'this': 1}\n"
     ]
    }
   ],
   "metadata": {}
  },
  {
   "cell_type": "markdown",
   "source": [
    "这段代码将每个词出现的次数计算了出来。\r\n",
    "\r\n",
    "能够用dict处理如上问题之后，我们便拥有了处理excel表格类数据的基础。"
   ],
   "metadata": {}
  },
  {
   "cell_type": "markdown",
   "source": [
    "请看如下数据\r\n",
    "```\r\n",
    "age,name,gender\r\n",
    "18,mike,m\r\n",
    "19,jordan,f\r\n",
    "18,mia,f\r\n",
    "20,dali,m\r\n",
    "21,mike,m\r\n",
    "```\r\n",
    "这种数据表示方式叫做csv，comma separated values，字面意思是用逗号`,`隔开的数据。\r\n",
    "\r\n",
    "显示成类似excel表格的话，大致如下\r\n",
    "\r\n",
    "age|name|gender\r\n",
    "-|-|-\r\n",
    "18|mike|m\r\n",
    "19|jordan|f\r\n",
    "18|mia|f\r\n",
    "20|dali|m\r\n",
    "21|mike|m\r\n",
    "\r\n",
    "第一行`age,name,gender`表示抬头，headers。接下来的每一行就是一组数据，每一个竖列用逗号隔开。\r\n",
    "\r\n",
    "这个表格有5个人，分别记录了他们的年龄、名字、性别。m（male）表示男，f（female）表示女。\r\n",
    "\r\n",
    "但\r\n",
    "```\r\n",
    "age,name,gender\r\n",
    "18,mike,m\r\n",
    "19,jordan,f\r\n",
    "18,mia,f\r\n",
    "20,dali,m\r\n",
    "21,mike,m\r\n",
    "```\r\n",
    "只是一个string，或者说文本。如何用Python的数据结构来记录呢？\r\n",
    "\r\n",
    "我们可以用五个dict来记录同样的信息。"
   ],
   "metadata": {}
  },
  {
   "cell_type": "code",
   "execution_count": 3,
   "source": [
    "person1 = {\"age\": 18, \"name\": \"mike\",   \"gender\": \"m\"}\r\n",
    "person2 = {\"age\": 19, \"name\": \"jordan\", \"gender\": \"f\"}\r\n",
    "person3 = {\"age\": 18, \"name\": \"mia\",    \"gender\": \"f\"}\r\n",
    "person4 = {\"age\": 20, \"name\": \"dali\",   \"gender\": \"m\"}\r\n",
    "person5 = {\"age\": 21, \"name\": \"mike\",   \"gender\": \"m\"}"
   ],
   "outputs": [],
   "metadata": {}
  },
  {
   "cell_type": "markdown",
   "source": [
    "那么，将这5个dict合并，就是可以表示一样的表格。"
   ],
   "metadata": {}
  },
  {
   "cell_type": "code",
   "execution_count": 4,
   "source": [
    "table = [person1, person2, person3, person4, person5]"
   ],
   "outputs": [],
   "metadata": {}
  },
  {
   "cell_type": "markdown",
   "source": [
    "现在，我们需要写一个函数将string转化为一个由dict组成的list。"
   ],
   "metadata": {}
  },
  {
   "cell_type": "code",
   "execution_count": 5,
   "source": [
    "def load_csv_from_string(data):\r\n",
    "    csv = []\r\n",
    "    lines = data.split(\"\\n\")\r\n",
    "    lines = list(filter(lambda line: line != \"\", lines,))\r\n",
    "    headers = lines[0].split(\",\")\r\n",
    "    for line in lines[1:]:\r\n",
    "        row = {}\r\n",
    "        for header, record in zip(headers, line.split(\",\")):\r\n",
    "            row[header] = record\r\n",
    "        csv.append(row)\r\n",
    "    return csv"
   ],
   "outputs": [],
   "metadata": {}
  },
  {
   "cell_type": "code",
   "execution_count": 6,
   "source": [
    "data = \"\"\"\r\n",
    "age,name,gender\r\n",
    "18,mike,m\r\n",
    "19,jordan,f\r\n",
    "18,mia,f\r\n",
    "20,dali,m\r\n",
    "21,mike,m\r\n",
    "\"\"\"\r\n",
    "load_csv_from_string(data)"
   ],
   "outputs": [
    {
     "output_type": "execute_result",
     "data": {
      "text/plain": [
       "[{'age': '18', 'name': 'mike', 'gender': 'm'},\n",
       " {'age': '19', 'name': 'jordan', 'gender': 'f'},\n",
       " {'age': '18', 'name': 'mia', 'gender': 'f'},\n",
       " {'age': '20', 'name': 'dali', 'gender': 'm'},\n",
       " {'age': '21', 'name': 'mike', 'gender': 'm'}]"
      ]
     },
     "metadata": {},
     "execution_count": 6
    }
   ],
   "metadata": {}
  },
  {
   "cell_type": "markdown",
   "source": [
    "我们成功了。仔细看看如上的代码，理解其逻辑。\r\n",
    "\r\n",
    "除了`zip`以外，其他语法都是学过的。"
   ],
   "metadata": {}
  },
  {
   "cell_type": "code",
   "execution_count": 7,
   "source": [
    "# zip 是一个函数，用处是同时loop两个序列。\r\n",
    "# 比如有两个序列\r\n",
    "a = [1, 2, 3]\r\n",
    "b = [\"x\", \"y\", \"z\"]\r\n",
    "\r\n",
    "# 分别循环很简单\r\n",
    "for element in a:\r\n",
    "    print(element)\r\n",
    "for element in b:\r\n",
    "    print(element)"
   ],
   "outputs": [
    {
     "output_type": "stream",
     "name": "stdout",
     "text": [
      "1\n",
      "2\n",
      "3\n",
      "x\n",
      "y\n",
      "z\n"
     ]
    }
   ],
   "metadata": {}
  },
  {
   "cell_type": "code",
   "execution_count": 8,
   "source": [
    "# 一般而言，同时循环这两个序列的方法是\r\n",
    "for i in range(len(a)):\r\n",
    "    print(a[i], b[i])"
   ],
   "outputs": [
    {
     "output_type": "stream",
     "name": "stdout",
     "text": [
      "1 x\n",
      "2 y\n",
      "3 z\n"
     ]
    }
   ],
   "metadata": {}
  },
  {
   "cell_type": "code",
   "execution_count": 9,
   "source": [
    "# 因为这个操作很常用，所以Python自带了zip\r\n",
    "for ele1, ele2 in zip(a, b):\r\n",
    "    print(ele1, ele2)"
   ],
   "outputs": [
    {
     "output_type": "stream",
     "name": "stdout",
     "text": [
      "1 x\n",
      "2 y\n",
      "3 z\n"
     ]
    }
   ],
   "metadata": {}
  },
  {
   "cell_type": "code",
   "execution_count": 10,
   "source": [
    "# 你可以理解为，zip将两个序列中的元素一一对应地合并了。\r\n",
    "result_of_zip = zip(a, b)\r\n",
    "# 将这个结果作为list打印\r\n",
    "list(result_of_zip)"
   ],
   "outputs": [
    {
     "output_type": "execute_result",
     "data": {
      "text/plain": [
       "[(1, 'x'), (2, 'y'), (3, 'z')]"
      ]
     },
     "metadata": {},
     "execution_count": 10
    }
   ],
   "metadata": {}
  },
  {
   "cell_type": "markdown",
   "source": [
    "今天的课程就到这里，你学会了吗？"
   ],
   "metadata": {}
  }
 ],
 "metadata": {
  "orig_nbformat": 4,
  "language_info": {
   "name": "python",
   "version": "3.9.5",
   "mimetype": "text/x-python",
   "codemirror_mode": {
    "name": "ipython",
    "version": 3
   },
   "pygments_lexer": "ipython3",
   "nbconvert_exporter": "python",
   "file_extension": ".py"
  },
  "kernelspec": {
   "name": "python3",
   "display_name": "Python 3.9.5 64-bit (system)"
  },
  "interpreter": {
   "hash": "0d6c302c9fb5f4562f3b026c632932202ec3f6a7cdf43a4105b0731bfe37e072"
  }
 },
 "nbformat": 4,
 "nbformat_minor": 2
}